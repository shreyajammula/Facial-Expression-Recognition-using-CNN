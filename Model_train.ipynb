{
 "cells": [
  {
   "cell_type": "markdown",
   "id": "4505f7ff",
   "metadata": {},
   "source": [
    "### Training Process\n",
    "\n",
    "### Import Necessary Libraries"
   ]
  },
  {
   "cell_type": "code",
   "execution_count": 5,
   "id": "b54ed815",
   "metadata": {
    "execution": {
     "iopub.execute_input": "2023-11-15T15:52:10.354403Z",
     "iopub.status.busy": "2023-11-15T15:52:10.353953Z",
     "iopub.status.idle": "2023-11-15T15:52:10.361028Z",
     "shell.execute_reply": "2023-11-15T15:52:10.359901Z",
     "shell.execute_reply.started": "2023-11-15T15:52:10.354371Z"
    }
   },
   "outputs": [],
   "source": [
    "import numpy as np\n",
    "import pandas as pd\n",
    "import matplotlib.pyplot as plt\n",
    "from PIL import Image\n",
    "from tensorflow.keras.models import Sequential\n",
    "from tensorflow.keras.layers import Dense, BatchNormalization, Conv2D, Flatten, MaxPooling2D\n",
    "from sklearn.model_selection import train_test_split\n",
    "from keras.utils import to_categorical"
   ]
  },
  {
   "cell_type": "code",
   "execution_count": null,
   "id": "b1c0c6b4",
   "metadata": {},
   "outputs": [],
   "source": [
    "### Importing Dataset"
   ]
  },
  {
   "cell_type": "code",
   "execution_count": 6,
   "id": "79522052",
   "metadata": {
    "execution": {
     "iopub.execute_input": "2023-11-15T15:52:13.420589Z",
     "iopub.status.busy": "2023-11-15T15:52:13.420211Z",
     "iopub.status.idle": "2023-11-15T15:52:19.933576Z",
     "shell.execute_reply": "2023-11-15T15:52:19.932480Z",
     "shell.execute_reply.started": "2023-11-15T15:52:13.420562Z"
    }
   },
   "outputs": [
    {
     "data": {
      "text/html": [
       "<div>\n",
       "<style scoped>\n",
       "    .dataframe tbody tr th:only-of-type {\n",
       "        vertical-align: middle;\n",
       "    }\n",
       "\n",
       "    .dataframe tbody tr th {\n",
       "        vertical-align: top;\n",
       "    }\n",
       "\n",
       "    .dataframe thead th {\n",
       "        text-align: right;\n",
       "    }\n",
       "</style>\n",
       "<table border=\"1\" class=\"dataframe\">\n",
       "  <thead>\n",
       "    <tr style=\"text-align: right;\">\n",
       "      <th></th>\n",
       "      <th>emotion</th>\n",
       "      <th>pixels</th>\n",
       "      <th>Usage</th>\n",
       "    </tr>\n",
       "  </thead>\n",
       "  <tbody>\n",
       "    <tr>\n",
       "      <th>0</th>\n",
       "      <td>0</td>\n",
       "      <td>70 80 82 72 58 58 60 63 54 58 60 48 89 115 121...</td>\n",
       "      <td>Training</td>\n",
       "    </tr>\n",
       "    <tr>\n",
       "      <th>1</th>\n",
       "      <td>0</td>\n",
       "      <td>151 150 147 155 148 133 111 140 170 174 182 15...</td>\n",
       "      <td>Training</td>\n",
       "    </tr>\n",
       "    <tr>\n",
       "      <th>2</th>\n",
       "      <td>2</td>\n",
       "      <td>231 212 156 164 174 138 161 173 182 200 106 38...</td>\n",
       "      <td>Training</td>\n",
       "    </tr>\n",
       "    <tr>\n",
       "      <th>3</th>\n",
       "      <td>4</td>\n",
       "      <td>24 32 36 30 32 23 19 20 30 41 21 22 32 34 21 1...</td>\n",
       "      <td>Training</td>\n",
       "    </tr>\n",
       "    <tr>\n",
       "      <th>4</th>\n",
       "      <td>6</td>\n",
       "      <td>4 0 0 0 0 0 0 0 0 0 0 0 3 15 23 28 48 50 58 84...</td>\n",
       "      <td>Training</td>\n",
       "    </tr>\n",
       "    <tr>\n",
       "      <th>...</th>\n",
       "      <td>...</td>\n",
       "      <td>...</td>\n",
       "      <td>...</td>\n",
       "    </tr>\n",
       "    <tr>\n",
       "      <th>35882</th>\n",
       "      <td>6</td>\n",
       "      <td>50 36 17 22 23 29 33 39 34 37 37 37 39 43 48 5...</td>\n",
       "      <td>PrivateTest</td>\n",
       "    </tr>\n",
       "    <tr>\n",
       "      <th>35883</th>\n",
       "      <td>3</td>\n",
       "      <td>178 174 172 173 181 188 191 194 196 199 200 20...</td>\n",
       "      <td>PrivateTest</td>\n",
       "    </tr>\n",
       "    <tr>\n",
       "      <th>35884</th>\n",
       "      <td>0</td>\n",
       "      <td>17 17 16 23 28 22 19 17 25 26 20 24 31 19 27 9...</td>\n",
       "      <td>PrivateTest</td>\n",
       "    </tr>\n",
       "    <tr>\n",
       "      <th>35885</th>\n",
       "      <td>3</td>\n",
       "      <td>30 28 28 29 31 30 42 68 79 81 77 67 67 71 63 6...</td>\n",
       "      <td>PrivateTest</td>\n",
       "    </tr>\n",
       "    <tr>\n",
       "      <th>35886</th>\n",
       "      <td>2</td>\n",
       "      <td>19 13 14 12 13 16 21 33 50 57 71 84 97 108 122...</td>\n",
       "      <td>PrivateTest</td>\n",
       "    </tr>\n",
       "  </tbody>\n",
       "</table>\n",
       "<p>35887 rows × 3 columns</p>\n",
       "</div>"
      ],
      "text/plain": [
       "       emotion                                             pixels        Usage\n",
       "0            0  70 80 82 72 58 58 60 63 54 58 60 48 89 115 121...     Training\n",
       "1            0  151 150 147 155 148 133 111 140 170 174 182 15...     Training\n",
       "2            2  231 212 156 164 174 138 161 173 182 200 106 38...     Training\n",
       "3            4  24 32 36 30 32 23 19 20 30 41 21 22 32 34 21 1...     Training\n",
       "4            6  4 0 0 0 0 0 0 0 0 0 0 0 3 15 23 28 48 50 58 84...     Training\n",
       "...        ...                                                ...          ...\n",
       "35882        6  50 36 17 22 23 29 33 39 34 37 37 37 39 43 48 5...  PrivateTest\n",
       "35883        3  178 174 172 173 181 188 191 194 196 199 200 20...  PrivateTest\n",
       "35884        0  17 17 16 23 28 22 19 17 25 26 20 24 31 19 27 9...  PrivateTest\n",
       "35885        3  30 28 28 29 31 30 42 68 79 81 77 67 67 71 63 6...  PrivateTest\n",
       "35886        2  19 13 14 12 13 16 21 33 50 57 71 84 97 108 122...  PrivateTest\n",
       "\n",
       "[35887 rows x 3 columns]"
      ]
     },
     "execution_count": 6,
     "metadata": {},
     "output_type": "execute_result"
    }
   ],
   "source": [
    "dataset=pd.read_csv('dataset/fer20131.csv')\n",
    "dataset"
   ]
  },
  {
   "cell_type": "markdown",
   "id": "4df486d7",
   "metadata": {},
   "source": [
    "#### Selecting Particluar emotions to train "
   ]
  },
  {
   "cell_type": "code",
   "execution_count": 3,
   "id": "718c6c74",
   "metadata": {
    "execution": {
     "iopub.execute_input": "2023-11-15T15:52:24.088271Z",
     "iopub.status.busy": "2023-11-15T15:52:24.087629Z",
     "iopub.status.idle": "2023-11-15T15:52:24.094268Z",
     "shell.execute_reply": "2023-11-15T15:52:24.093101Z",
     "shell.execute_reply.started": "2023-11-15T15:52:24.088228Z"
    }
   },
   "outputs": [],
   "source": [
    "selected_emotions = [0, 2, 3, 4, 5]  # Emotions to include\n",
    "\n",
    "# Assign the Labels\n",
    "\n",
    "emotion_labels = ['Angry', 'Fear', 'Happy', 'Sad', 'Surprise']"
   ]
  },
  {
   "cell_type": "markdown",
   "id": "44a6b936",
   "metadata": {},
   "source": [
    "Empyty list to retrieve each image and label in array format"
   ]
  },
  {
   "cell_type": "code",
   "execution_count": 8,
   "id": "65918ede",
   "metadata": {
    "execution": {
     "iopub.execute_input": "2023-11-15T15:52:26.632470Z",
     "iopub.status.busy": "2023-11-15T15:52:26.631448Z",
     "iopub.status.idle": "2023-11-15T15:52:26.637369Z",
     "shell.execute_reply": "2023-11-15T15:52:26.636292Z",
     "shell.execute_reply.started": "2023-11-15T15:52:26.632426Z"
    }
   },
   "outputs": [],
   "source": [
    "images = []\n",
    "labels = []"
   ]
  },
  {
   "cell_type": "markdown",
   "id": "813e1006",
   "metadata": {},
   "source": [
    "#### Retrieving Images and Pre-processing"
   ]
  },
  {
   "cell_type": "code",
   "execution_count": 9,
   "id": "c3ef0cc2",
   "metadata": {
    "execution": {
     "iopub.execute_input": "2023-11-15T15:52:30.432669Z",
     "iopub.status.busy": "2023-11-15T15:52:30.432226Z",
     "iopub.status.idle": "2023-11-15T15:52:48.627316Z",
     "shell.execute_reply": "2023-11-15T15:52:48.626116Z",
     "shell.execute_reply.started": "2023-11-15T15:52:30.432639Z"
    }
   },
   "outputs": [],
   "source": [
    "for i in range(len(dataset)):\n",
    "    if dataset['emotion'][i] in selected_emotions:\n",
    "        pixels = np.array(dataset['pixels'][i].split(' '), dtype='float32')\n",
    "        image = pixels.reshape((48, 48, 1)) / 255.0\n",
    "        images.append(image)\n",
    "        labels.append(dataset['emotion'][i])"
   ]
  },
  {
   "cell_type": "code",
   "execution_count": 10,
   "id": "fe679687",
   "metadata": {
    "execution": {
     "iopub.execute_input": "2023-11-15T15:52:53.585654Z",
     "iopub.status.busy": "2023-11-15T15:52:53.584547Z",
     "iopub.status.idle": "2023-11-15T15:52:53.753304Z",
     "shell.execute_reply": "2023-11-15T15:52:53.752358Z",
     "shell.execute_reply.started": "2023-11-15T15:52:53.585607Z"
    }
   },
   "outputs": [],
   "source": [
    "images = np.array(images)\n",
    "labels = np.array(labels)"
   ]
  },
  {
   "cell_type": "markdown",
   "id": "bd1e3671",
   "metadata": {},
   "source": [
    "### Map emotion labels to corresponding indices "
   ]
  },
  {
   "cell_type": "code",
   "execution_count": 11,
   "id": "a43bb9f9",
   "metadata": {
    "execution": {
     "iopub.execute_input": "2023-11-15T15:52:55.134591Z",
     "iopub.status.busy": "2023-11-15T15:52:55.133951Z",
     "iopub.status.idle": "2023-11-15T15:52:55.154085Z",
     "shell.execute_reply": "2023-11-15T15:52:55.153224Z",
     "shell.execute_reply.started": "2023-11-15T15:52:55.134548Z"
    }
   },
   "outputs": [],
   "source": [
    "label_mapping = {emotion: idx for idx, emotion in enumerate(selected_emotions)}\n",
    "labels_mapped = np.array([label_mapping[label] for label in labels])\n",
    "\n",
    "# Convert labels to categorical\n",
    "num_classes = len(selected_emotions)\n",
    "labels_categorical = to_categorical(labels_mapped, num_classes=num_classes)"
   ]
  },
  {
   "cell_type": "markdown",
   "id": "930ea39c",
   "metadata": {},
   "source": [
    "### Split Dataset for training & testing"
   ]
  },
  {
   "cell_type": "code",
   "execution_count": 12,
   "id": "5b78f83c",
   "metadata": {
    "execution": {
     "iopub.execute_input": "2023-11-15T15:52:58.613114Z",
     "iopub.status.busy": "2023-11-15T15:52:58.612393Z",
     "iopub.status.idle": "2023-11-15T15:52:58.738466Z",
     "shell.execute_reply": "2023-11-15T15:52:58.737409Z",
     "shell.execute_reply.started": "2023-11-15T15:52:58.613073Z"
    }
   },
   "outputs": [],
   "source": [
    "feature_train, feature_test, label_train, label_test = train_test_split(images, labels_categorical, test_size=0.2, random_state=7)"
   ]
  },
  {
   "cell_type": "markdown",
   "id": "6fc2f3fc",
   "metadata": {},
   "source": [
    "### Create model"
   ]
  },
  {
   "cell_type": "code",
   "execution_count": 13,
   "id": "bad7608b",
   "metadata": {
    "execution": {
     "iopub.execute_input": "2023-11-15T15:53:00.166844Z",
     "iopub.status.busy": "2023-11-15T15:53:00.166437Z",
     "iopub.status.idle": "2023-11-15T15:53:00.482264Z",
     "shell.execute_reply": "2023-11-15T15:53:00.481255Z",
     "shell.execute_reply.started": "2023-11-15T15:53:00.166813Z"
    }
   },
   "outputs": [],
   "source": [
    "model = Sequential()\n",
    "model.add(Conv2D(64, kernel_size=(5, 5), input_shape=(48, 48, 1), activation='relu'))\n",
    "model.add(BatchNormalization())\n",
    "model.add(MaxPooling2D(pool_size=(2, 2)))\n",
    "model.add(Conv2D(128, kernel_size=(5, 5), activation='relu'))\n",
    "model.add(Conv2D(128, kernel_size=(5, 5), activation='relu'))\n",
    "model.add(BatchNormalization())\n",
    "model.add(MaxPooling2D(pool_size=(2, 2)))\n",
    "model.add(Conv2D(256, kernel_size=(5, 5), activation='relu'))\n",
    "model.add(BatchNormalization())\n",
    "model.add(MaxPooling2D(pool_size=(2, 2)))\n",
    "model.add(Flatten())\n",
    "model.add(Dense(128, activation='relu'))\n",
    "model.add(Dense(5, activation='softmax'))"
   ]
  },
  {
   "cell_type": "markdown",
   "id": "6d0cbea3",
   "metadata": {},
   "source": [
    "### Compile the model"
   ]
  },
  {
   "cell_type": "code",
   "execution_count": 15,
   "id": "c1a2005c",
   "metadata": {
    "execution": {
     "iopub.execute_input": "2023-11-15T15:55:02.441679Z",
     "iopub.status.busy": "2023-11-15T15:55:02.441278Z",
     "iopub.status.idle": "2023-11-15T15:55:02.456106Z",
     "shell.execute_reply": "2023-11-15T15:55:02.455120Z",
     "shell.execute_reply.started": "2023-11-15T15:55:02.441650Z"
    }
   },
   "outputs": [],
   "source": [
    "model.compile(loss='categorical_crossentropy', optimizer='Adam', metrics=['accuracy'])"
   ]
  },
  {
   "cell_type": "markdown",
   "id": "5468d9e3",
   "metadata": {},
   "source": [
    "### Train model"
   ]
  },
  {
   "cell_type": "code",
   "execution_count": 17,
   "id": "01c0878b",
   "metadata": {
    "execution": {
     "iopub.execute_input": "2023-11-15T15:55:25.776487Z",
     "iopub.status.busy": "2023-11-15T15:55:25.776096Z",
     "iopub.status.idle": "2023-11-15T17:10:27.955101Z",
     "shell.execute_reply": "2023-11-15T17:10:27.953857Z",
     "shell.execute_reply.started": "2023-11-15T15:55:25.776456Z"
    }
   },
   "outputs": [
    {
     "name": "stdout",
     "output_type": "stream",
     "text": [
      "Epoch 1/15\n",
      "365/365 [==============================] - 281s 771ms/step - loss: 1.3883 - accuracy: 0.4156 - val_loss: 1.7005 - val_accuracy: 0.3037\n",
      "Epoch 2/15\n",
      "365/365 [==============================] - 279s 766ms/step - loss: 1.1550 - accuracy: 0.5276 - val_loss: 1.3568 - val_accuracy: 0.4237\n",
      "Epoch 3/15\n",
      "365/365 [==============================] - 301s 824ms/step - loss: 1.0044 - accuracy: 0.5943 - val_loss: 1.2077 - val_accuracy: 0.5222\n",
      "Epoch 4/15\n",
      "365/365 [==============================] - 313s 858ms/step - loss: 0.8869 - accuracy: 0.6487 - val_loss: 1.0622 - val_accuracy: 0.5745\n",
      "Epoch 5/15\n",
      "365/365 [==============================] - 312s 855ms/step - loss: 0.7638 - accuracy: 0.6960 - val_loss: 1.1390 - val_accuracy: 0.5660\n",
      "Epoch 6/15\n",
      "365/365 [==============================] - 312s 856ms/step - loss: 0.6291 - accuracy: 0.7565 - val_loss: 1.2060 - val_accuracy: 0.5716\n",
      "Epoch 7/15\n",
      "365/365 [==============================] - 288s 789ms/step - loss: 0.4882 - accuracy: 0.8153 - val_loss: 1.1953 - val_accuracy: 0.5720\n",
      "Epoch 8/15\n",
      "365/365 [==============================] - 277s 758ms/step - loss: 0.3449 - accuracy: 0.8745 - val_loss: 1.3628 - val_accuracy: 0.5956\n",
      "Epoch 9/15\n",
      "365/365 [==============================] - 279s 765ms/step - loss: 0.2422 - accuracy: 0.9141 - val_loss: 1.6546 - val_accuracy: 0.5653\n",
      "Epoch 10/15\n",
      "365/365 [==============================] - 294s 805ms/step - loss: 0.1875 - accuracy: 0.9341 - val_loss: 1.7970 - val_accuracy: 0.5495\n",
      "Epoch 11/15\n",
      "365/365 [==============================] - 311s 852ms/step - loss: 0.1400 - accuracy: 0.9538 - val_loss: 1.8329 - val_accuracy: 0.5514\n",
      "Epoch 12/15\n",
      "365/365 [==============================] - 310s 848ms/step - loss: 0.1251 - accuracy: 0.9596 - val_loss: 1.7695 - val_accuracy: 0.6114\n",
      "Epoch 13/15\n",
      "365/365 [==============================] - 313s 857ms/step - loss: 0.1030 - accuracy: 0.9670 - val_loss: 2.0018 - val_accuracy: 0.5879\n",
      "Epoch 14/15\n",
      "365/365 [==============================] - 312s 854ms/step - loss: 0.0944 - accuracy: 0.9699 - val_loss: 2.1229 - val_accuracy: 0.5610\n",
      "Epoch 15/15\n",
      "365/365 [==============================] - 321s 879ms/step - loss: 0.0804 - accuracy: 0.9730 - val_loss: 1.9021 - val_accuracy: 0.5944\n"
     ]
    },
    {
     "data": {
      "text/plain": [
       "<keras.src.callbacks.History at 0x7eb2381e8220>"
      ]
     },
     "execution_count": 17,
     "metadata": {},
     "output_type": "execute_result"
    }
   ],
   "source": [
    "model.fit(feature_train, label_train, batch_size=64,epochs=15, verbose=1, validation_data=(feature_test, label_test), shuffle=True)"
   ]
  },
  {
   "cell_type": "markdown",
   "id": "a434bf99",
   "metadata": {},
   "source": [
    "### Save Model"
   ]
  },
  {
   "cell_type": "markdown",
   "id": "2fa89447",
   "metadata": {},
   "source": [
    "These three methods are Preferred choices"
   ]
  },
  {
   "cell_type": "code",
   "execution_count": 19,
   "id": "65050492",
   "metadata": {
    "execution": {
     "iopub.execute_input": "2023-11-15T17:12:18.493833Z",
     "iopub.status.busy": "2023-11-15T17:12:18.493371Z",
     "iopub.status.idle": "2023-11-15T17:12:18.595426Z",
     "shell.execute_reply": "2023-11-15T17:12:18.594016Z",
     "shell.execute_reply.started": "2023-11-15T17:12:18.493798Z"
    }
   },
   "outputs": [
    {
     "name": "stderr",
     "output_type": "stream",
     "text": [
      "/opt/conda/lib/python3.10/site-packages/keras/src/engine/training.py:3000: UserWarning: You are saving your model as an HDF5 file via `model.save()`. This file format is considered legacy. We recommend using instead the native Keras format, e.g. `model.save('my_model.keras')`.\n",
      "  saving_api.save_model(\n"
     ]
    }
   ],
   "source": [
    "model.save('face_cnn_model.h5')"
   ]
  },
  {
   "cell_type": "code",
   "execution_count": 20,
   "id": "894c5463",
   "metadata": {
    "execution": {
     "iopub.execute_input": "2023-11-15T17:12:24.484017Z",
     "iopub.status.busy": "2023-11-15T17:12:24.482570Z",
     "iopub.status.idle": "2023-11-15T17:12:24.524749Z",
     "shell.execute_reply": "2023-11-15T17:12:24.523775Z",
     "shell.execute_reply.started": "2023-11-15T17:12:24.483976Z"
    }
   },
   "outputs": [],
   "source": [
    "model.save_weights(\"face_cnn_model_weights.h5\")"
   ]
  },
  {
   "cell_type": "code",
   "execution_count": 21,
   "id": "fec0a9c8",
   "metadata": {
    "execution": {
     "iopub.execute_input": "2023-11-15T17:29:01.554541Z",
     "iopub.status.busy": "2023-11-15T17:29:01.554074Z",
     "iopub.status.idle": "2023-11-15T17:29:01.565943Z",
     "shell.execute_reply": "2023-11-15T17:29:01.564284Z",
     "shell.execute_reply.started": "2023-11-15T17:29:01.554508Z"
    }
   },
   "outputs": [],
   "source": [
    "model_json = model.to_json()\n",
    "with open('face_cnn_model_architecture.json', 'w') as json_file:\n",
    "    json_file.write(model_json)"
   ]
  },
  {
   "cell_type": "markdown",
   "id": "23bf8742",
   "metadata": {},
   "source": [
    "### Model is Trained and saved , if you face any warnings in the notebook ignore them"
   ]
  }
 ],
 "metadata": {
  "kaggle": {
   "accelerator": "none",
   "dataSources": [
    {
     "datasetId": 4007876,
     "sourceId": 6975008,
     "sourceType": "datasetVersion"
    },
    {
     "datasetId": 4008274,
     "sourceId": 6975570,
     "sourceType": "datasetVersion"
    }
   ],
   "dockerImageVersionId": 30579,
   "isGpuEnabled": false,
   "isInternetEnabled": true,
   "language": "python",
   "sourceType": "notebook"
  },
  "kernelspec": {
   "display_name": "Python 3 (ipykernel)",
   "language": "python",
   "name": "python3"
  },
  "language_info": {
   "codemirror_mode": {
    "name": "ipython",
    "version": 3
   },
   "file_extension": ".py",
   "mimetype": "text/x-python",
   "name": "python",
   "nbconvert_exporter": "python",
   "pygments_lexer": "ipython3",
   "version": "3.10.13"
  }
 },
 "nbformat": 4,
 "nbformat_minor": 5
}
